{
 "metadata": {
  "name": "",
  "signature": "sha256:7882d6d518a40affe97243cf62d9d6ed59c26493cab94ae4ec47a92890ca1519"
 },
 "nbformat": 3,
 "nbformat_minor": 0,
 "worksheets": [
  {
   "cells": [
    {
     "cell_type": "code",
     "collapsed": false,
     "input": [
      "%run logistic_sgd.py"
     ],
     "language": "python",
     "metadata": {},
     "outputs": [
      {
       "output_type": "stream",
       "stream": "stdout",
       "text": [
        "Downloading data from http://www.iro.umontreal.ca/~lisa/deep/data/mnist/mnist.pkl.gz\n",
        "... loading data"
       ]
      },
      {
       "output_type": "stream",
       "stream": "stdout",
       "text": [
        "\n",
        "... building the model"
       ]
      },
      {
       "output_type": "stream",
       "stream": "stdout",
       "text": [
        "\n",
        "... training the model"
       ]
      },
      {
       "output_type": "stream",
       "stream": "stdout",
       "text": [
        "\n",
        "epoch 1, minibatch 83/83, validation error 12.458333 %"
       ]
      },
      {
       "output_type": "stream",
       "stream": "stdout",
       "text": [
        "\n",
        "     epoch 1, minibatch 83/83, test error of best model 12.375000 %\n",
        "epoch 2, minibatch 83/83, validation error 11.010417 %"
       ]
      },
      {
       "output_type": "stream",
       "stream": "stdout",
       "text": [
        "\n",
        "     epoch 2, minibatch 83/83, test error of best model 10.958333 %\n",
        "epoch 3, minibatch 83/83, validation error 10.312500 %"
       ]
      },
      {
       "output_type": "stream",
       "stream": "stdout",
       "text": [
        "\n",
        "     epoch 3, minibatch 83/83, test error of best model 10.312500 %\n",
        "epoch 4, minibatch 83/83, validation error 9.875000 %"
       ]
      },
      {
       "output_type": "stream",
       "stream": "stdout",
       "text": [
        "\n",
        "     epoch 4, minibatch 83/83, test error of best model 9.833333 %\n",
        "epoch 5, minibatch 83/83, validation error 9.562500 %"
       ]
      },
      {
       "output_type": "stream",
       "stream": "stdout",
       "text": [
        "\n",
        "     epoch 5, minibatch 83/83, test error of best model 9.479167 %\n",
        "epoch 6, minibatch 83/83, validation error 9.322917 %"
       ]
      },
      {
       "output_type": "stream",
       "stream": "stdout",
       "text": [
        "\n",
        "     epoch 6, minibatch 83/83, test error of best model 9.291667 %\n",
        "epoch 7, minibatch 83/83, validation error 9.187500 %"
       ]
      },
      {
       "output_type": "stream",
       "stream": "stdout",
       "text": [
        "\n",
        "     epoch 7, minibatch 83/83, test error of best model 9.000000 %\n",
        "epoch 8, minibatch 83/83, validation error 8.989583 %"
       ]
      },
      {
       "output_type": "stream",
       "stream": "stdout",
       "text": [
        "\n",
        "     epoch 8, minibatch 83/83, test error of best model 8.958333 %\n",
        "epoch 9, minibatch 83/83, validation error 8.937500 %"
       ]
      },
      {
       "output_type": "stream",
       "stream": "stdout",
       "text": [
        "\n",
        "     epoch 9, minibatch 83/83, test error of best model 8.812500 %\n",
        "epoch 10, minibatch 83/83, validation error 8.750000 %"
       ]
      },
      {
       "output_type": "stream",
       "stream": "stdout",
       "text": [
        "\n",
        "     epoch 10, minibatch 83/83, test error of best model 8.666667 %\n",
        "epoch 11, minibatch 83/83, validation error 8.666667 %"
       ]
      },
      {
       "output_type": "stream",
       "stream": "stdout",
       "text": [
        "\n",
        "     epoch 11, minibatch 83/83, test error of best model 8.520833 %\n",
        "epoch 12, minibatch 83/83, validation error 8.583333 %"
       ]
      },
      {
       "output_type": "stream",
       "stream": "stdout",
       "text": [
        "\n",
        "     epoch 12, minibatch 83/83, test error of best model 8.416667 %\n",
        "epoch 13, minibatch 83/83, validation error 8.489583 %"
       ]
      },
      {
       "output_type": "stream",
       "stream": "stdout",
       "text": [
        "\n",
        "     epoch 13, minibatch 83/83, test error of best model 8.291667 %\n",
        "epoch 14, minibatch 83/83, validation error 8.427083 %"
       ]
      },
      {
       "output_type": "stream",
       "stream": "stdout",
       "text": [
        "\n",
        "     epoch 14, minibatch 83/83, test error of best model 8.281250 %\n",
        "epoch 15, minibatch 83/83, validation error 8.354167 %"
       ]
      },
      {
       "output_type": "stream",
       "stream": "stdout",
       "text": [
        "\n",
        "     epoch 15, minibatch 83/83, test error of best model 8.270833 %\n",
        "epoch 16, minibatch 83/83, validation error 8.302083 %"
       ]
      },
      {
       "output_type": "stream",
       "stream": "stdout",
       "text": [
        "\n",
        "     epoch 16, minibatch 83/83, test error of best model 8.239583 %\n",
        "epoch 17, minibatch 83/83, validation error 8.250000 %"
       ]
      },
      {
       "output_type": "stream",
       "stream": "stdout",
       "text": [
        "\n",
        "     epoch 17, minibatch 83/83, test error of best model 8.177083 %\n",
        "epoch 18, minibatch 83/83, validation error 8.229167 %"
       ]
      },
      {
       "output_type": "stream",
       "stream": "stdout",
       "text": [
        "\n",
        "     epoch 18, minibatch 83/83, test error of best model 8.062500 %\n",
        "epoch 19, minibatch 83/83, validation error 8.260417 %"
       ]
      },
      {
       "output_type": "stream",
       "stream": "stdout",
       "text": [
        "\n",
        "epoch 20, minibatch 83/83, validation error 8.260417 %"
       ]
      },
      {
       "output_type": "stream",
       "stream": "stdout",
       "text": [
        "\n",
        "epoch 21, minibatch 83/83, validation error 8.208333 %"
       ]
      },
      {
       "output_type": "stream",
       "stream": "stdout",
       "text": [
        "\n",
        "     epoch 21, minibatch 83/83, test error of best model 7.947917 %\n",
        "epoch 22, minibatch 83/83, validation error 8.187500 %"
       ]
      },
      {
       "output_type": "stream",
       "stream": "stdout",
       "text": [
        "\n",
        "     epoch 22, minibatch 83/83, test error of best model 7.927083 %\n",
        "epoch 23, minibatch 83/83, validation error 8.156250 %"
       ]
      },
      {
       "output_type": "stream",
       "stream": "stdout",
       "text": [
        "\n",
        "     epoch 23, minibatch 83/83, test error of best model 7.958333 %\n",
        "epoch 24, minibatch 83/83, validation error 8.114583 %"
       ]
      },
      {
       "output_type": "stream",
       "stream": "stdout",
       "text": [
        "\n",
        "     epoch 24, minibatch 83/83, test error of best model 7.947917 %\n",
        "epoch 25, minibatch 83/83, validation error 8.093750 %"
       ]
      },
      {
       "output_type": "stream",
       "stream": "stdout",
       "text": [
        "\n",
        "     epoch 25, minibatch 83/83, test error of best model 7.947917 %\n",
        "epoch 26, minibatch 83/83, validation error 8.104167 %"
       ]
      },
      {
       "output_type": "stream",
       "stream": "stdout",
       "text": [
        "\n",
        "epoch 27, minibatch 83/83, validation error 8.104167 %"
       ]
      },
      {
       "output_type": "stream",
       "stream": "stdout",
       "text": [
        "\n",
        "epoch 28, minibatch 83/83, validation error 8.052083 %"
       ]
      },
      {
       "output_type": "stream",
       "stream": "stdout",
       "text": [
        "\n",
        "     epoch 28, minibatch 83/83, test error of best model 7.843750 %\n",
        "epoch 29, minibatch 83/83, validation error 8.052083 %"
       ]
      },
      {
       "output_type": "stream",
       "stream": "stdout",
       "text": [
        "\n",
        "epoch 30, minibatch 83/83, validation error 8.031250 %"
       ]
      },
      {
       "output_type": "stream",
       "stream": "stdout",
       "text": [
        "\n",
        "     epoch 30, minibatch 83/83, test error of best model 7.843750 %\n",
        "epoch 31, minibatch 83/83, validation error 8.010417 %"
       ]
      },
      {
       "output_type": "stream",
       "stream": "stdout",
       "text": [
        "\n",
        "     epoch 31, minibatch 83/83, test error of best model 7.833333 %\n",
        "epoch 32, minibatch 83/83, validation error 7.979167 %"
       ]
      },
      {
       "output_type": "stream",
       "stream": "stdout",
       "text": [
        "\n",
        "     epoch 32, minibatch 83/83, test error of best model 7.812500 %\n",
        "epoch 33, minibatch 83/83, validation error 7.947917 %"
       ]
      },
      {
       "output_type": "stream",
       "stream": "stdout",
       "text": [
        "\n",
        "     epoch 33, minibatch 83/83, test error of best model 7.739583 %\n",
        "epoch 34, minibatch 83/83, validation error 7.875000 %"
       ]
      },
      {
       "output_type": "stream",
       "stream": "stdout",
       "text": [
        "\n",
        "     epoch 34, minibatch 83/83, test error of best model 7.729167 %\n",
        "epoch 35, minibatch 83/83, validation error 7.885417 %"
       ]
      },
      {
       "output_type": "stream",
       "stream": "stdout",
       "text": [
        "\n",
        "epoch 36, minibatch 83/83, validation error 7.843750 %"
       ]
      },
      {
       "output_type": "stream",
       "stream": "stdout",
       "text": [
        "\n",
        "     epoch 36, minibatch 83/83, test error of best model 7.697917 %\n",
        "epoch 37, minibatch 83/83, validation error 7.802083 %"
       ]
      },
      {
       "output_type": "stream",
       "stream": "stdout",
       "text": [
        "\n",
        "     epoch 37, minibatch 83/83, test error of best model 7.635417 %\n",
        "epoch 38, minibatch 83/83, validation error 7.812500 %"
       ]
      },
      {
       "output_type": "stream",
       "stream": "stdout",
       "text": [
        "\n",
        "epoch 39, minibatch 83/83, validation error 7.812500 %"
       ]
      },
      {
       "output_type": "stream",
       "stream": "stdout",
       "text": [
        "\n",
        "epoch 40, minibatch 83/83, validation error 7.822917 %"
       ]
      },
      {
       "output_type": "stream",
       "stream": "stdout",
       "text": [
        "\n",
        "epoch 41, minibatch 83/83, validation error 7.791667 %"
       ]
      },
      {
       "output_type": "stream",
       "stream": "stdout",
       "text": [
        "\n",
        "     epoch 41, minibatch 83/83, test error of best model 7.625000 %\n",
        "epoch 42, minibatch 83/83, validation error 7.770833 %"
       ]
      },
      {
       "output_type": "stream",
       "stream": "stdout",
       "text": [
        "\n",
        "     epoch 42, minibatch 83/83, test error of best model 7.614583 %\n",
        "epoch 43, minibatch 83/83, validation error 7.750000 %"
       ]
      },
      {
       "output_type": "stream",
       "stream": "stdout",
       "text": [
        "\n",
        "     epoch 43, minibatch 83/83, test error of best model 7.593750 %\n",
        "epoch 44, minibatch 83/83, validation error 7.739583 %"
       ]
      },
      {
       "output_type": "stream",
       "stream": "stdout",
       "text": [
        "\n",
        "     epoch 44, minibatch 83/83, test error of best model 7.593750 %\n",
        "epoch 45, minibatch 83/83, validation error 7.739583 %"
       ]
      },
      {
       "output_type": "stream",
       "stream": "stdout",
       "text": [
        "\n",
        "epoch 46, minibatch 83/83, validation error 7.739583 %"
       ]
      },
      {
       "output_type": "stream",
       "stream": "stdout",
       "text": [
        "\n",
        "epoch 47, minibatch 83/83, validation error 7.739583 %"
       ]
      },
      {
       "output_type": "stream",
       "stream": "stdout",
       "text": [
        "\n",
        "epoch 48, minibatch 83/83, validation error 7.708333 %"
       ]
      },
      {
       "output_type": "stream",
       "stream": "stdout",
       "text": [
        "\n",
        "     epoch 48, minibatch 83/83, test error of best model 7.583333 %\n",
        "epoch 49, minibatch 83/83, validation error 7.677083 %"
       ]
      },
      {
       "output_type": "stream",
       "stream": "stdout",
       "text": [
        "\n",
        "     epoch 49, minibatch 83/83, test error of best model 7.572917 %\n",
        "epoch 50, minibatch 83/83, validation error 7.677083 %"
       ]
      },
      {
       "output_type": "stream",
       "stream": "stdout",
       "text": [
        "\n",
        "epoch 51, minibatch 83/83, validation error 7.677083 %"
       ]
      },
      {
       "output_type": "stream",
       "stream": "stdout",
       "text": [
        "\n",
        "epoch 52, minibatch 83/83, validation error 7.656250 %"
       ]
      },
      {
       "output_type": "stream",
       "stream": "stdout",
       "text": [
        "\n",
        "     epoch 52, minibatch 83/83, test error of best model 7.541667 %\n",
        "epoch 53, minibatch 83/83, validation error 7.656250 %"
       ]
      },
      {
       "output_type": "stream",
       "stream": "stdout",
       "text": [
        "\n",
        "epoch 54, minibatch 83/83, validation error 7.635417 %"
       ]
      },
      {
       "output_type": "stream",
       "stream": "stdout",
       "text": [
        "\n",
        "     epoch 54, minibatch 83/83, test error of best model 7.520833 %\n",
        "epoch 55, minibatch 83/83, validation error 7.635417 %"
       ]
      },
      {
       "output_type": "stream",
       "stream": "stdout",
       "text": [
        "\n",
        "epoch 56, minibatch 83/83, validation error 7.635417 %"
       ]
      },
      {
       "output_type": "stream",
       "stream": "stdout",
       "text": [
        "\n",
        "epoch 57, minibatch 83/83, validation error 7.604167 %"
       ]
      },
      {
       "output_type": "stream",
       "stream": "stdout",
       "text": [
        "\n",
        "     epoch 57, minibatch 83/83, test error of best model 7.489583 %\n",
        "epoch 58, minibatch 83/83, validation error 7.583333 %"
       ]
      },
      {
       "output_type": "stream",
       "stream": "stdout",
       "text": [
        "\n",
        "     epoch 58, minibatch 83/83, test error of best model 7.458333 %"
       ]
      },
      {
       "output_type": "stream",
       "stream": "stdout",
       "text": [
        "\n",
        "epoch 59, minibatch 83/83, validation error 7.572917 %"
       ]
      },
      {
       "output_type": "stream",
       "stream": "stdout",
       "text": [
        "\n",
        "     epoch 59, minibatch 83/83, test error of best model 7.468750 %\n",
        "epoch 60, minibatch 83/83, validation error 7.572917 %"
       ]
      },
      {
       "output_type": "stream",
       "stream": "stdout",
       "text": [
        "\n",
        "epoch 61, minibatch 83/83, validation error 7.583333 %"
       ]
      },
      {
       "output_type": "stream",
       "stream": "stdout",
       "text": [
        "\n",
        "epoch 62, minibatch 83/83, validation error 7.572917 %"
       ]
      },
      {
       "output_type": "stream",
       "stream": "stdout",
       "text": [
        "\n",
        "     epoch 62, minibatch 83/83, test error of best model 7.520833 %\n",
        "epoch 63, minibatch 83/83, validation error 7.562500 %"
       ]
      },
      {
       "output_type": "stream",
       "stream": "stdout",
       "text": [
        "\n",
        "     epoch 63, minibatch 83/83, test error of best model 7.510417 %\n",
        "epoch 64, minibatch 83/83, validation error 7.572917 %"
       ]
      },
      {
       "output_type": "stream",
       "stream": "stdout",
       "text": [
        "\n",
        "epoch 65, minibatch 83/83, validation error 7.562500 %"
       ]
      },
      {
       "output_type": "stream",
       "stream": "stdout",
       "text": [
        "\n",
        "epoch 66, minibatch 83/83, validation error 7.552083 %"
       ]
      },
      {
       "output_type": "stream",
       "stream": "stdout",
       "text": [
        "\n",
        "     epoch 66, minibatch 83/83, test error of best model 7.520833 %\n",
        "epoch 67, minibatch 83/83, validation error 7.552083 %"
       ]
      },
      {
       "output_type": "stream",
       "stream": "stdout",
       "text": [
        "\n",
        "epoch 68, minibatch 83/83, validation error 7.531250 %"
       ]
      },
      {
       "output_type": "stream",
       "stream": "stdout",
       "text": [
        "\n",
        "     epoch 68, minibatch 83/83, test error of best model 7.520833 %\n",
        "epoch 69, minibatch 83/83, validation error 7.531250 %"
       ]
      },
      {
       "output_type": "stream",
       "stream": "stdout",
       "text": [
        "\n",
        "epoch 70, minibatch 83/83, validation error 7.510417 %"
       ]
      },
      {
       "output_type": "stream",
       "stream": "stdout",
       "text": [
        "\n",
        "     epoch 70, minibatch 83/83, test error of best model 7.500000 %\n",
        "epoch 71, minibatch 83/83, validation error 7.520833 %"
       ]
      },
      {
       "output_type": "stream",
       "stream": "stdout",
       "text": [
        "\n",
        "epoch 72, minibatch 83/83, validation error 7.510417 %"
       ]
      },
      {
       "output_type": "stream",
       "stream": "stdout",
       "text": [
        "\n",
        "epoch 73, minibatch 83/83, validation error 7.500000 %"
       ]
      },
      {
       "output_type": "stream",
       "stream": "stdout",
       "text": [
        "\n",
        "     epoch 73, minibatch 83/83, test error of best model 7.489583 %\n",
        "Optimization complete with best validation score of 7.500000 %,with test performance 7.489583 %"
       ]
      },
      {
       "output_type": "stream",
       "stream": "stdout",
       "text": [
        "\n",
        "The code run for 74 epochs, with 2.812874 epochs/sec\n"
       ]
      },
      {
       "output_type": "stream",
       "stream": "stderr",
       "text": [
        "The code for file logistic_sgd.py ran for 26.3s\n"
       ]
      }
     ],
     "prompt_number": 6
    },
    {
     "cell_type": "code",
     "collapsed": false,
     "input": [
      "% run mlp.py"
     ],
     "language": "python",
     "metadata": {},
     "outputs": []
    },
    {
     "cell_type": "code",
     "collapsed": false,
     "input": [],
     "language": "python",
     "metadata": {},
     "outputs": []
    }
   ],
   "metadata": {}
  }
 ]
}